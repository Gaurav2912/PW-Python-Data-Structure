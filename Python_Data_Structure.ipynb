{
  "nbformat": 4,
  "nbformat_minor": 0,
  "metadata": {
    "colab": {
      "provenance": [],
      "authorship_tag": "ABX9TyO63LbnH/denB/vrIlkRXVF",
      "include_colab_link": true
    },
    "kernelspec": {
      "name": "python3",
      "display_name": "Python 3"
    },
    "language_info": {
      "name": "python"
    }
  },
  "cells": [
    {
      "cell_type": "markdown",
      "metadata": {
        "id": "view-in-github",
        "colab_type": "text"
      },
      "source": [
        "<a href=\"https://colab.research.google.com/github/Gaurav2912/PW-Python-Data-Structure/blob/main/Python_Data_Structure.ipynb\" target=\"_parent\"><img src=\"https://colab.research.google.com/assets/colab-badge.svg\" alt=\"Open In Colab\"/></a>"
      ]
    },
    {
      "cell_type": "markdown",
      "source": [
        "#Assignments: Data Structures in Python\n",
        "\n",
        "**1. Write a code to reverse a string.**"
      ],
      "metadata": {
        "id": "k1r2NoWDb0jp"
      }
    },
    {
      "cell_type": "code",
      "execution_count": null,
      "metadata": {
        "colab": {
          "base_uri": "https://localhost:8080/"
        },
        "id": "SrUvEF6wbrfe",
        "outputId": "270e2505-e9f1-4f4f-aabf-ea6ad6ebbaca"
      },
      "outputs": [
        {
          "output_type": "stream",
          "name": "stdout",
          "text": [
            "Please enter a string: abc\n",
            "The inverted string is: cba\n"
          ]
        }
      ],
      "source": [
        "my_string = input(\"Please enter a string: \")\n",
        "# select start to end but from revese order\n",
        "inverted = my_string[::-1]\n",
        "print(\"The inverted string is:\", inverted)"
      ]
    },
    {
      "cell_type": "markdown",
      "source": [
        "**2. Write a code to count the number of vowels in a string.**"
      ],
      "metadata": {
        "id": "J_9JFjw1dVPW"
      }
    },
    {
      "cell_type": "code",
      "source": [
        "my_string = input(\"Please enter a string: \")\n",
        "\n",
        "count = 0\n",
        "\n",
        "for char in my_string:\n",
        "  if char in \"aeiou\":\n",
        "    count += 1\n",
        "\n",
        "print(\"number of vowels is: \",count)"
      ],
      "metadata": {
        "colab": {
          "base_uri": "https://localhost:8080/"
        },
        "id": "tblyppZxdSZU",
        "outputId": "e18b7aff-6f19-4b18-f5fd-779598b6a016"
      },
      "execution_count": null,
      "outputs": [
        {
          "output_type": "stream",
          "name": "stdout",
          "text": [
            "Please enter a string: qweerty\n",
            "number of vowels is:  2\n"
          ]
        }
      ]
    },
    {
      "cell_type": "markdown",
      "source": [
        "**3. Write a code to check if given string is palindrome or not.**"
      ],
      "metadata": {
        "id": "nlHSeTGRfKNq"
      }
    },
    {
      "cell_type": "code",
      "source": [
        "my_string = input(\"Please enter a string: \")\n",
        "\n",
        "if (my_string == my_string[::-1]):\n",
        "  print(\"Given string is palindrome.\")\n",
        "else:\n",
        "  print(\"Given String is not a palindrome\")"
      ],
      "metadata": {
        "colab": {
          "base_uri": "https://localhost:8080/"
        },
        "id": "s6HMtqL-fCPz",
        "outputId": "d15dfdf7-32ac-46e5-aecb-e5c963601ddc"
      },
      "execution_count": null,
      "outputs": [
        {
          "output_type": "stream",
          "name": "stdout",
          "text": [
            "Please enter a string: abcd\n",
            "Given String is not a palindrome\n"
          ]
        }
      ]
    },
    {
      "cell_type": "markdown",
      "source": [
        "**4. Write a code to check if two given strings are anagrams of each other.**"
      ],
      "metadata": {
        "id": "UGDQP_AWgbDR"
      }
    },
    {
      "cell_type": "code",
      "source": [
        "one_string = input(\"Please enter a string: \")\n",
        "another_string = input(\"Please enter another string: \")\n",
        "\n",
        "# We cant sort string so convert it into sorted list\n",
        "if (sorted(one_string) == sorted(another_string)): # sorted(one_string) give a sorted list\n",
        "  print(\"Given two stringa are anagrams.\")\n",
        "else:\n",
        "  print(\"Given two Strings are not anagrams.\")"
      ],
      "metadata": {
        "colab": {
          "base_uri": "https://localhost:8080/"
        },
        "id": "r9zsA71ge1cP",
        "outputId": "81e1abf7-381c-4811-ea00-bd19380f2e1b"
      },
      "execution_count": null,
      "outputs": [
        {
          "output_type": "stream",
          "name": "stdout",
          "text": [
            "Please enter a string: abcd\n",
            "Please enter another string: adbc\n",
            "Given two stringa are anagrams.\n"
          ]
        }
      ]
    },
    {
      "cell_type": "markdown",
      "source": [
        "**5. Write a code to find all occurences  of a given substring within another string.**"
      ],
      "metadata": {
        "id": "tX1Jy1vsjqn8"
      }
    },
    {
      "cell_type": "code",
      "source": [
        "# big string\n",
        "big = input(\"Please enter a string: \")\n",
        "# sub-string\n",
        "sub = input(\"Please enter sub string: \")\n",
        "\n",
        "index_positions = []\n",
        "n = len(big)\n",
        "k = len(sub)\n",
        "# need to process from 0 to (n-k)th index\n",
        "for i in range(n-k+1):\n",
        "  # check string equality by sliding sub portion of string\n",
        "  if big[i:i+k] == sub:\n",
        "    index_positions.append(i)\n",
        "\n",
        "print(f\"{len(index_positions)} times sub string in big string at index positions {index_positions}\")"
      ],
      "metadata": {
        "id": "1aCBGw9lnzoh",
        "colab": {
          "base_uri": "https://localhost:8080/"
        },
        "outputId": "64539d3b-0041-4f01-807f-1ba96555ef37"
      },
      "execution_count": 2,
      "outputs": [
        {
          "output_type": "stream",
          "name": "stdout",
          "text": [
            "Please enter a string: abcdefgabchijklmnopabcqrstuvabcwxyz\n",
            "Please enter sub string: abc\n",
            "4 times sub string in big string at index positions [0, 7, 19, 28]\n"
          ]
        }
      ]
    },
    {
      "cell_type": "markdown",
      "source": [
        "**6. Write a code to perform basic string compression using the counts of repeated characters.**\n"
      ],
      "metadata": {
        "id": "gCu9SHLUW5aM"
      }
    },
    {
      "cell_type": "code",
      "source": [
        "input_string = input(\"Please enter a string: \")\n",
        "count_dict = {}\n",
        "\n",
        "for char in input_string:\n",
        "  count_dict[char] = count_dict.get(char, 0) + 1\n",
        "\n",
        "print(count_dict)"
      ],
      "metadata": {
        "colab": {
          "base_uri": "https://localhost:8080/"
        },
        "id": "ED07sCr4hB9b",
        "outputId": "88244ec0-e5e2-474b-be2d-fb8d848683ac"
      },
      "execution_count": 3,
      "outputs": [
        {
          "output_type": "stream",
          "name": "stdout",
          "text": [
            "Please enter a string: aabcaaddeefffffcc\n",
            "{'a': 4, 'b': 1, 'c': 3, 'd': 2, 'e': 2, 'f': 5}\n"
          ]
        }
      ]
    },
    {
      "cell_type": "markdown",
      "source": [
        "**7. Write a code to determine if a string has all unique characters.**"
      ],
      "metadata": {
        "id": "1vXVlaajW5f9"
      }
    },
    {
      "cell_type": "code",
      "source": [
        "input_string = input(\"Please enter a string: \")\n",
        "count_dict = {}\n",
        "\n",
        "for char in input_string:\n",
        "  count_dict[char] = count_dict.get(char, 0) + 1\n",
        "  if count_dict.get(char) > 1:\n",
        "    print(\"String don't have all unique characters.\")\n",
        "    break\n",
        "\n",
        "# if for loop doesnt break\n",
        "else:\n",
        "  print(\"String have all unique characters.\")"
      ],
      "metadata": {
        "colab": {
          "base_uri": "https://localhost:8080/"
        },
        "id": "sd6EjLHSiDOY",
        "outputId": "c132e6ad-7ede-4984-bac6-78280463a2c5"
      },
      "execution_count": 5,
      "outputs": [
        {
          "output_type": "stream",
          "name": "stdout",
          "text": [
            "Please enter a string: abcdeef\n",
            "String don't have all unique characters.\n"
          ]
        }
      ]
    },
    {
      "cell_type": "markdown",
      "source": [
        "**8. Write a code to convert a given string to uppercase or lowercase.**"
      ],
      "metadata": {
        "id": "JyHO-yQNW5iz"
      }
    },
    {
      "cell_type": "code",
      "source": [
        "input_string = input(\"Please enter a string: \")\n",
        "\n",
        "print(input_string.lower())\n",
        "print(input_string.upper())"
      ],
      "metadata": {
        "id": "dptBL5Z4lDOb"
      },
      "execution_count": null,
      "outputs": []
    },
    {
      "cell_type": "markdown",
      "source": [
        "**9. Write a code to count the number of words in a string.**"
      ],
      "metadata": {
        "id": "XhJKLjZVW5l2"
      }
    },
    {
      "cell_type": "code",
      "source": [
        "input_string = input(\"Please enter a string: \")\n",
        "\n",
        "print(f\"No of words is {len(input_string.split())}\")"
      ],
      "metadata": {
        "id": "TA_iFjKksUa_"
      },
      "execution_count": null,
      "outputs": []
    },
    {
      "cell_type": "markdown",
      "source": [
        "or"
      ],
      "metadata": {
        "id": "vElQcSUCskv2"
      }
    },
    {
      "cell_type": "code",
      "source": [
        "input_string = input(\"Please enter a string: \")\n",
        "\n",
        "count = 0\n",
        "for char in input_string:\n",
        "  # count for wide space char\n",
        "  if char == \" \":\n",
        "    count += 1\n",
        "\n",
        "print(f\"No of words is {count+1}\")"
      ],
      "metadata": {
        "id": "HalLXRj-rimu"
      },
      "execution_count": null,
      "outputs": []
    },
    {
      "cell_type": "markdown",
      "source": [
        "**10. Write a code to concatenate two strings without using the + operator.**"
      ],
      "metadata": {
        "id": "OG-6ry9kW5os"
      }
    },
    {
      "cell_type": "code",
      "source": [
        "str1 = \"Google\"\n",
        "str2 = \"Colab\"\n",
        "\n",
        "# join using \" \" wide space\n",
        "print(\" \".join([str1, str2]))"
      ],
      "metadata": {
        "colab": {
          "base_uri": "https://localhost:8080/"
        },
        "id": "dfvWAfEQsp5b",
        "outputId": "c8d4f42e-f834-45e5-b46f-444b8ed5c1ea"
      },
      "execution_count": 6,
      "outputs": [
        {
          "output_type": "stream",
          "name": "stdout",
          "text": [
            "Google Colab\n"
          ]
        }
      ]
    },
    {
      "cell_type": "markdown",
      "source": [
        "**11. Write a code to remove all occurrences of a specific element from a list.**"
      ],
      "metadata": {
        "id": "jvtncKKdW5rj"
      }
    },
    {
      "cell_type": "code",
      "source": [
        "input_list = input(\"Enter number or char saperated by space : \").split()\n",
        "removal_elem = input(\"Enter a number of char: \")\n",
        "\n",
        "print(f\"list before removal of {removal_elem}: {input_list}\")\n",
        "\n",
        "for item in input_list:\n",
        "    if item == removal_elem:\n",
        "        input_list.remove(item)\n",
        "\n",
        "print(f\"list after removal of {removal_elem}: {input_list}\")"
      ],
      "metadata": {
        "id": "eLA8ScC_xf3S"
      },
      "execution_count": null,
      "outputs": []
    },
    {
      "cell_type": "markdown",
      "source": [
        "**12. Implement a code to find the second largest number in a given list of integers.**"
      ],
      "metadata": {
        "id": "uIHxd5PlW5uQ"
      }
    },
    {
      "cell_type": "code",
      "source": [
        "input_list = list(map(int, input(\"Enter integers saperated by space : \").split()))\n",
        "\n",
        "print(f\"Given List is {input_list}\")\n",
        "# remove all the duplicates\n",
        "unique_elem = set(input_list)\n",
        "\n",
        "# find maximum and remove it from set\n",
        "largest = max(unique_elem)\n",
        "unique_elem.remove(largest)\n",
        "\n",
        "# now second largest is maximum from remaning set\n",
        "sec_largest = max(unique_elem)\n",
        "print(f\"2nd largest integer is {sec_largest}\")"
      ],
      "metadata": {
        "colab": {
          "base_uri": "https://localhost:8080/"
        },
        "id": "75JVSrfuxmnr",
        "outputId": "bf4dd6c9-3477-498a-b892-c86ae0340263"
      },
      "execution_count": 8,
      "outputs": [
        {
          "output_type": "stream",
          "name": "stdout",
          "text": [
            "Enter integers saperated by space : 1 2 3 4 6 6 3 2 1 0\n",
            "Given List is [1, 2, 3, 4, 6, 6, 3, 2, 1, 0]\n",
            "2nd largest integer is 4\n"
          ]
        }
      ]
    },
    {
      "cell_type": "markdown",
      "source": [
        "**13. Create a code to count the occurrences of each element in a list and return a dictionary with elements as keys and their counts as values.**"
      ],
      "metadata": {
        "id": "cY1d6Hi4W5xG"
      }
    },
    {
      "cell_type": "code",
      "source": [
        "input_list = list(map(int, input(\"Enter integers saperated by space : \").split()))\n",
        "\n",
        "dict_counts = {}\n",
        "\n",
        "for item in input_list:\n",
        "    dict_counts[item] = dict_counts.get(item, 0) + 1\n",
        "\n",
        "print(dict_counts)"
      ],
      "metadata": {
        "id": "4nlFPYAY1EDQ"
      },
      "execution_count": null,
      "outputs": []
    },
    {
      "cell_type": "markdown",
      "source": [
        "**14. Write a code to reverse a list in-place without using any built-in reverse functions.**"
      ],
      "metadata": {
        "id": "lGZw5oTbW55Y"
      }
    },
    {
      "cell_type": "code",
      "source": [
        "input_list = list(map(int, input(\"Enter integers saperated by space : \").split()))\n",
        "\n",
        "print(f\"List before reverse : {input_list} \")\n",
        "\n",
        "n = len(input_list)\n",
        "for i in range(n//2):\n",
        "    input_list[i], input_list[n-i-1] = input_list[n-i-1], input_list[i]\n",
        "\n",
        "print(f\"List after reverse : {input_list} \")"
      ],
      "metadata": {
        "id": "VnOWdko32Xmi"
      },
      "execution_count": null,
      "outputs": []
    },
    {
      "cell_type": "markdown",
      "source": [
        "**15. Implement a code to find and remove duplicates from a list while preserving the original order of elements.**"
      ],
      "metadata": {
        "id": "yb--emFpW58V"
      }
    },
    {
      "cell_type": "code",
      "source": [
        "input_list = list(map(int, input(\"Enter integers saperated by space : \").split()))\n",
        "\n",
        "print(f\"List before removal of duplicats : {input_list}\")\n",
        "\n",
        "# If we typecast it in set then original order will change\n",
        "output_list = []\n",
        "for item in input_list:\n",
        "    if item not in output_list:\n",
        "        output_list.append(item)\n",
        "print(f\"List after removal of duplicats : {output_list}\")"
      ],
      "metadata": {
        "id": "R2E5N9Eh2dWQ"
      },
      "execution_count": null,
      "outputs": []
    },
    {
      "cell_type": "markdown",
      "source": [
        "**16. Create a code to check if a given list is sorted (either in ascending or descending order) or not.**"
      ],
      "metadata": {
        "id": "t-Eh3Ch0W5_T"
      }
    },
    {
      "cell_type": "code",
      "source": [
        "input_list = list(map(int, input(\"Enter integers saperated by space : \").split()))\n",
        "\n",
        "# Assuming len >= 1\n",
        "\n",
        "is_ascending = False\n",
        "is_decending = False\n",
        "\n",
        "for i in range(len(input_list)-1):\n",
        "    if input_list[i] < input_list[i+1]:\n",
        "        is_ascending = True\n",
        "    elif input_list[i] > input_list[i+1]:\n",
        "        is_decending = True\n",
        "\n",
        "if is_ascending and is_decending:\n",
        "    # both cant be happen at same time\n",
        "    print(\"List is not sorted\")\n",
        "else:\n",
        "    print(\"List is sorted\")"
      ],
      "metadata": {
        "id": "ZVzidJjb2xJq"
      },
      "execution_count": null,
      "outputs": []
    },
    {
      "cell_type": "markdown",
      "source": [
        "**17. Write a code to merge two sorted lists into a single sorted list.**"
      ],
      "metadata": {
        "id": "ob8iBuRIW5dA"
      }
    },
    {
      "cell_type": "code",
      "source": [
        "# Assuming both the list is sorted in ascending order\n",
        "list1 = [(2*i) for i in range(11)]\n",
        "list2 = [(2*i+1) for i in range(10)]\n",
        "\n",
        "merged_list = []\n",
        "i, j = 0, 0\n",
        "n, m = len(list1), len(list2)\n",
        "\n",
        "# compare one by one and then append the small or equal element\n",
        "while i<n and j<m:\n",
        "    if list1[i] <= list2[j]:\n",
        "        merged_list.append(list1[i])\n",
        "        i += 1\n",
        "    else:\n",
        "        merged_list.append(list2[j])\n",
        "        j += 1\n",
        "\n",
        "# If any of the list become empty, just append the all elements of non empty list\n",
        "while i<n:\n",
        "    merged_list.append(list1[i])\n",
        "    i += 1\n",
        "\n",
        "while j<m:\n",
        "    merged_list.append(list2[j])\n",
        "    j += 1\n",
        "\n",
        "print(f\"First List: {list1}\")\n",
        "print(f\"Secnd List: {list2}\")\n",
        "print(f\"Merged List: {merged_list}\")"
      ],
      "metadata": {
        "id": "W2uKty1v3Ac3"
      },
      "execution_count": null,
      "outputs": []
    },
    {
      "cell_type": "markdown",
      "source": [
        "**18. Implement a code to find the intersection of two given lists.**"
      ],
      "metadata": {
        "id": "6Nkr8QpaW6Cd"
      }
    },
    {
      "cell_type": "code",
      "source": [
        "list1 = list(map(int, input(\"Enter integers saperated by space : \").split()))\n",
        "list2 = list(map(int, input(\"Enter integers saperated by space : \").split()))\n",
        "\n",
        "print(f\"Item in list 1: {list1}\")\n",
        "print(f\"Item in list 2: {list2}\")\n",
        "\n",
        "def intersection_list(list1: list, list2: list)->list:\n",
        "\n",
        "  intersection = []\n",
        "\n",
        "  # find the small list and large list\n",
        "  if len(list1)<len(list2):\n",
        "      small_list = list1\n",
        "      large_list = list2\n",
        "  else: # grater or equal\n",
        "      small_list = list2\n",
        "      large_list = list1\n",
        "\n",
        "  for item in small_list:\n",
        "      if item in large_list:\n",
        "          intersection.append(item)\n",
        "          large_list.remove(item)\n",
        "\n",
        "  return intersection\n",
        "\n",
        "print(f\"Item in Intersection: {intersection_list(list1, list2)}\")"
      ],
      "metadata": {
        "colab": {
          "base_uri": "https://localhost:8080/"
        },
        "id": "KHYBDgV04BfJ",
        "outputId": "c6e2048f-8470-4956-8367-abddba5834d2"
      },
      "execution_count": 17,
      "outputs": [
        {
          "output_type": "stream",
          "name": "stdout",
          "text": [
            "Enter integers saperated by space : 1 2 3 4 5 6\n",
            "Enter integers saperated by space : 6 6\n",
            "Item in list 1: [1, 2, 3, 4, 5, 6]\n",
            "Item in list 2: [6, 6]\n",
            "Item in Intersection: [6]\n"
          ]
        }
      ]
    },
    {
      "cell_type": "markdown",
      "source": [
        "**19. Create a code to find the union of two lists without duplicates.**"
      ],
      "metadata": {
        "id": "scLeLguDW6F9"
      }
    },
    {
      "cell_type": "code",
      "source": [
        "list1 = list(map(int, input(\"Enter integers saperated by space : \").split()))\n",
        "list2 = list(map(int, input(\"Enter integers saperated by space : \").split()))\n",
        "\n",
        "print(list1)\n",
        "print(list2)\n",
        "union = []\n",
        "\n",
        "for item in list1:\n",
        "  union.append(item)\n",
        "  if item in list2:\n",
        "    list2.remove(item)\n",
        "\n",
        "for item in list2:\n",
        "  union.append(item)"
      ],
      "metadata": {
        "id": "qA5JM-nb98si"
      },
      "execution_count": null,
      "outputs": []
    },
    {
      "cell_type": "markdown",
      "source": [
        "**20. Write a code to shuffle a given list randomly without using any built-in shuffle functions.**"
      ],
      "metadata": {
        "id": "bK6FFquKW6RF"
      }
    },
    {
      "cell_type": "code",
      "source": [
        "import random\n",
        "\n",
        "given_list = [1, 2, 5, 7, 9, 0, 'e', 'a', 'i']\n",
        "print(f\"Original list: {given_list}\")\n",
        "\n",
        "random_shuffle = []\n",
        "for _ in range(len(given_list)):\n",
        "   item = random.choice(given_list)\n",
        "   given_list.remove(item)\n",
        "   random_shuffle.append(item)\n",
        "\n",
        "print(f\"Random shuffle: {random_shuffle}\")"
      ],
      "metadata": {
        "colab": {
          "base_uri": "https://localhost:8080/"
        },
        "id": "PWiR_SjL-r0r",
        "outputId": "5f85a843-89b0-4f1d-bd8b-7becd091ebbe"
      },
      "execution_count": 12,
      "outputs": [
        {
          "output_type": "stream",
          "name": "stdout",
          "text": [
            "Original list: [1, 2, 5, 7, 9, 0, 'e', 'a', 'i']\n",
            "Random shuffle: [5, 7, 'i', 1, 0, 'e', 9, 2, 'a']\n"
          ]
        }
      ]
    },
    {
      "cell_type": "markdown",
      "source": [
        "**21. Write a code that takes two tuples as input and returns a new tuple containing elements that are common to both input tuples.**"
      ],
      "metadata": {
        "id": "_I5QoPApW6TR"
      }
    },
    {
      "cell_type": "code",
      "source": [
        "tup1 = tuple(input(\"Enter element seprated by space: \").split())\n",
        "tup2 = tuple(input(\"Enter element seprated by space: \").split())\n",
        "\n",
        "def tupInter(tup1, tup2):\n",
        "  l1 = list(tup1)\n",
        "  l2 = list(tup2)\n",
        "  return tuple(intersection_list(l1, l2))   # from Q 18\n",
        "\n",
        "intersection = tupInter(tup1, tup2)\n",
        "\n",
        "print(f\"Item in tuple 1: {tup1}\")\n",
        "print(f\"Item in tuple 2: {tup2}\")\n",
        "print(f\"Item in Intersection: {intersection}\")"
      ],
      "metadata": {
        "colab": {
          "base_uri": "https://localhost:8080/"
        },
        "id": "AJR9WMsqEpfH",
        "outputId": "c654e9f4-28dd-4b62-86de-f83906937fa4"
      },
      "execution_count": 18,
      "outputs": [
        {
          "output_type": "stream",
          "name": "stdout",
          "text": [
            "Enter element seprated by space: 1 2 3 4 5 6\n",
            "Enter element seprated by space: 6 6\n",
            "Item in tuple 1: ('1', '2', '3', '4', '5', '6')\n",
            "Item in tuple 2: ('6', '6')\n",
            "Item in Intersection: ('6',)\n"
          ]
        }
      ]
    },
    {
      "cell_type": "markdown",
      "source": [
        "**22. Create a code that prompts the user to enter two sets of integers separated by commas. Then, print the intersection of these two sets.**"
      ],
      "metadata": {
        "id": "Ca1CByPqW6W0"
      }
    },
    {
      "cell_type": "code",
      "source": [
        "set1 = set(map(int,input(\"Enter element seprated by space: \").split(\",\")))\n",
        "set2 = set(map(int,input(\"Enter element seprated by space: \").split(\",\")))\n",
        "\n",
        "\n",
        "print(set1.intersection(set2))"
      ],
      "metadata": {
        "colab": {
          "base_uri": "https://localhost:8080/"
        },
        "id": "BdBvu4QeHr1I",
        "outputId": "eb5107b1-8645-4f0f-e0ac-304fd9fb792d"
      },
      "execution_count": 19,
      "outputs": [
        {
          "output_type": "stream",
          "name": "stdout",
          "text": [
            "Enter element seprated by space: 2,5,9\n",
            "Enter element seprated by space: 4,7,0,9\n",
            "{9}\n"
          ]
        }
      ]
    },
    {
      "cell_type": "markdown",
      "source": [
        "**23. Write a code to concatenate two tuples. The function should take two tuples as input and return a new tuple containing elements from both input tuples.**"
      ],
      "metadata": {
        "id": "qEuXLNxbW5zu"
      }
    },
    {
      "cell_type": "code",
      "source": [
        "def concatenate(tup1: tuple, tup2: tuple) -> tuple:\n",
        "\n",
        "    return tup1 + tup2\n",
        "\n",
        "print(concatenate((1, 2, 3), (1, 4)))"
      ],
      "metadata": {
        "id": "swvSj3x9IDZ1"
      },
      "execution_count": null,
      "outputs": []
    },
    {
      "cell_type": "markdown",
      "source": [
        "**24. Develop a code that prompts the user to input two sets of strings. Then, print the elements that are present in the first set but not in the second set.**"
      ],
      "metadata": {
        "id": "4iBbSC-zZgxA"
      }
    },
    {
      "cell_type": "code",
      "source": [
        "set1 = set(input(\"Enter the strings seprated by space: \").split())\n",
        "set2 = set(input(\"Enter the strings seprated by space: \").split())\n",
        "\n",
        "for item in (set1-set2):\n",
        "  print(item)"
      ],
      "metadata": {
        "colab": {
          "base_uri": "https://localhost:8080/"
        },
        "id": "h-m9lN7yIKQi",
        "outputId": "1602a8f6-a801-4f51-8b77-423f3476ba96"
      },
      "execution_count": 22,
      "outputs": [
        {
          "output_type": "stream",
          "name": "stdout",
          "text": [
            "Enter the strings seprated by space: 1 4 5 6\n",
            "Enter the strings seprated by space: 5 3 7 1\n",
            "6  \n",
            "4  \n"
          ]
        }
      ]
    },
    {
      "cell_type": "markdown",
      "source": [
        "**25. Create a code that takes a tuple and two integers as input. The function should return a new tuple containing elements from the original tuple within the specified range of indices.**"
      ],
      "metadata": {
        "id": "Rh54BBMWZg3Y"
      }
    },
    {
      "cell_type": "code",
      "source": [
        "def tuple_slicing(input_tuple: tuple, start: int, end: int) -> tuple:\n",
        "\n",
        "    return input_tuple[start:end+1]"
      ],
      "metadata": {
        "id": "kVT53fzvI3-X"
      },
      "execution_count": null,
      "outputs": []
    },
    {
      "cell_type": "markdown",
      "source": [
        "**26. Write a code that prompts the user to input two sets of characters. Then, print the union of those two sets.**"
      ],
      "metadata": {
        "id": "U2rIvcrUZg6e"
      }
    },
    {
      "cell_type": "code",
      "source": [
        "set1 = set(input(\"Enter characters: \"))\n",
        "set2 = set(input(\"Enter charactesr: \"))\n",
        "\n",
        "print(set1.union(set2))"
      ],
      "metadata": {
        "colab": {
          "base_uri": "https://localhost:8080/"
        },
        "id": "_-X7j13RKD19",
        "outputId": "a62ab8bd-5420-42ea-c728-e6329c15ee64"
      },
      "execution_count": 29,
      "outputs": [
        {
          "output_type": "stream",
          "name": "stdout",
          "text": [
            "Enter characters: qufot\n",
            "Enter charactesr: eopy\n",
            "{'y', 'p', 'q', 'e', 't', 'o', 'u', 'f'}\n"
          ]
        }
      ]
    },
    {
      "cell_type": "markdown",
      "source": [
        "**27. Develop a code that takes a tuple of integers as input. The function should return the maximum and minimum values from the tuple using tuple unpacking.**"
      ],
      "metadata": {
        "id": "N6xkaludZg9f"
      }
    },
    {
      "cell_type": "code",
      "source": [
        "def max_min(inp_tuple: tuple):\n",
        "\n",
        "    return max(inp_tuple), min(inp_tuple)"
      ],
      "metadata": {
        "id": "-622dN3_Kr23"
      },
      "execution_count": 24,
      "outputs": []
    },
    {
      "cell_type": "markdown",
      "source": [
        "**28. Create a code that defines two sets of integers. Then, print the union, intersection, and difference of these two sets.**"
      ],
      "metadata": {
        "id": "mwOUJr7DZhAB"
      }
    },
    {
      "cell_type": "code",
      "source": [
        "set1 = {2, 3, 1, 5, 6, 8}\n",
        "set2 = {3, 1, 7, 5, 6, 8}\n",
        "\n",
        "print(\"Union of the said sets:\")\n",
        "print(set1 | set2)\n",
        "\n",
        "print(\"Intersection of the said sets:\")\n",
        "print(set1 & set2)\n",
        "\n",
        "print(\"Difference of the said sets:\")\n",
        "print(set1 - set2)\n",
        "# OR\n",
        "print(set2 - set1)\n",
        "\n",
        "print(\"Symmetric difference.\")\n",
        "print(set1^set2)"
      ],
      "metadata": {
        "colab": {
          "base_uri": "https://localhost:8080/"
        },
        "id": "HihYfXrJkRsP",
        "outputId": "6aa1bbe5-2a39-4b5e-91a9-3c27aeab4bb3"
      },
      "execution_count": 26,
      "outputs": [
        {
          "output_type": "stream",
          "name": "stdout",
          "text": [
            "Union of the said sets:\n",
            "{1, 2, 3, 5, 6, 7, 8}\n",
            "Intersection of the said sets:\n",
            "{1, 3, 5, 6, 8}\n",
            "Difference of the said sets:\n",
            "{2}\n",
            "{7}\n",
            "Symmetric difference.\n",
            "{2, 7}\n"
          ]
        }
      ]
    },
    {
      "cell_type": "markdown",
      "source": [
        "**29. Write a code that takes a tuple and an element as input. The function should return the count of occurrences of the given element in the tuple.**"
      ],
      "metadata": {
        "id": "UrgP1-QFZhCw"
      }
    },
    {
      "cell_type": "code",
      "source": [
        "def count_occurrence(input_tuple: tuple, target):\n",
        "  count = 0\n",
        "  for item in input_tuple:\n",
        "    if item == target:\n",
        "      count += 1\n",
        "  return count"
      ],
      "metadata": {
        "id": "Q7m2AmdokiHf"
      },
      "execution_count": 28,
      "outputs": []
    },
    {
      "cell_type": "markdown",
      "source": [
        "**30. Develop a code that prompts the user to input two sets of strings. Then, print the symmetric difference of these two sets.**"
      ],
      "metadata": {
        "id": "Vn9168mGZhFR"
      }
    },
    {
      "cell_type": "code",
      "source": [
        "set1 = set(input(\"Enter element seprated by space: \").split())\n",
        "set2 = set(input(\"Enter element seprated by space: \").split())\n",
        "\n",
        "print(set1^set2)"
      ],
      "metadata": {
        "colab": {
          "base_uri": "https://localhost:8080/"
        },
        "id": "CNwjTgRLl4mG",
        "outputId": "f7dc9a71-cb6b-4b03-e935-d93d4cac73ac"
      },
      "execution_count": 30,
      "outputs": [
        {
          "output_type": "stream",
          "name": "stdout",
          "text": [
            "Enter element seprated by space: abc ijg ww plo\n",
            "Enter element seprated by space: wer ww plo wsvb\n",
            "{'abc', 'wsvb', 'ijg', 'wer'}\n"
          ]
        }
      ]
    },
    {
      "cell_type": "markdown",
      "source": [
        "**31. Write a code that takes a list of words as input and returns a dictionary where the keys are unique words and the values are the frequencies of those words in the input list.**"
      ],
      "metadata": {
        "id": "pePTdcVqW52j"
      }
    },
    {
      "cell_type": "code",
      "source": [
        "def dict_freq(list_of_words: list) -> dict:\n",
        "  freq_dict = {}\n",
        "\n",
        "  for item in list_of_words:\n",
        "    freq_dict[item] = freq_dict.get(item, 0) + 1\n",
        "\n",
        "  return freq_dict"
      ],
      "metadata": {
        "id": "tqlUjwRtmJUB"
      },
      "execution_count": 37,
      "outputs": []
    },
    {
      "cell_type": "markdown",
      "source": [
        "**32. Write a code that takes two dictionaries as input and merges them into a single dictionary. If there are common keys, the values should be added together.**"
      ],
      "metadata": {
        "id": "sIC2mswooZ4u"
      }
    },
    {
      "cell_type": "code",
      "source": [
        "def add_dictionary(dict1: dict, dict2: dict) -> dict:\n",
        "\n",
        "    for item in dict2:\n",
        "        dict1[item] = dict2[item] + dict1.get(item, 0)\n",
        "\n",
        "    return dict1\n",
        "\n",
        "dictionary1 = {\"a\": 8, \"b\": 10, \"c\": 12, \"d\":4}\n",
        "dictionary2 = {\"c\": 6, \"d\": 1, \"e\": 3}\n",
        "\n",
        "print(add_dictionary(dictionary1, dictionary2))"
      ],
      "metadata": {
        "colab": {
          "base_uri": "https://localhost:8080/"
        },
        "id": "e2a6flsqnYus",
        "outputId": "513b4d60-b3cf-46fe-b0d3-c7582fb8a4b3"
      },
      "execution_count": 33,
      "outputs": [
        {
          "output_type": "stream",
          "name": "stdout",
          "text": [
            "{'a': 8, 'b': 10, 'c': 18, 'd': 5, 'e': 3}\n"
          ]
        }
      ]
    },
    {
      "cell_type": "markdown",
      "source": [
        "**33. Write a code to access a value in a nested dictionary. The function should take the dictionary and a list of keys as input, and return the corresponding value. If any of the keys do not exist in the dictionary, the function should return None.**"
      ],
      "metadata": {
        "id": "wCJq7Xaaod3b"
      }
    },
    {
      "cell_type": "code",
      "source": [
        "def dictionary_values(input_dict: dict, inp_list: list):\n",
        "  for item in inp_list:\n",
        "    yield input_dict.get(item)\n",
        "\n",
        "given_list = [\"a\", \"g\", \"y\", \"x\"]\n",
        "\n",
        "given_dict = {\"a\": 5, \"b\": 9, \"g\": 90, \"x\": 12}\n",
        "\n",
        "for value in dictionary_values(given_dict, given_list):\n",
        "  print(value)"
      ],
      "metadata": {
        "colab": {
          "base_uri": "https://localhost:8080/"
        },
        "id": "OmYV41Sho_pt",
        "outputId": "6f873d1f-8fec-463c-d7d4-f10e3519a7db"
      },
      "execution_count": 34,
      "outputs": [
        {
          "output_type": "stream",
          "name": "stdout",
          "text": [
            "5\n",
            "90\n",
            "None\n",
            "12\n"
          ]
        }
      ]
    },
    {
      "cell_type": "markdown",
      "source": [
        "**34. Write a code that takes a dictionary as input and returns a sorted version of it based on the values. You can choose whether to sort in ascending or descending order.**"
      ],
      "metadata": {
        "id": "MpyF9_xyohNH"
      }
    },
    {
      "cell_type": "code",
      "source": [
        "def soted_keys(inp_dict: dict)->list:\n",
        "    return sorted(inp_dict.items(), key= lambda x: x[1])\n",
        "\n",
        "input_dict ={\"a\": 100, \"b\": 45, \"c\": 9, \"y\": 1}\n",
        "\n",
        "print(soted_keys(input_dict))"
      ],
      "metadata": {
        "colab": {
          "base_uri": "https://localhost:8080/"
        },
        "id": "p8OZinbDrKbW",
        "outputId": "d63a314b-b26b-47f6-fb9b-4414d09abc7e"
      },
      "execution_count": 36,
      "outputs": [
        {
          "output_type": "stream",
          "name": "stdout",
          "text": [
            "[('y', 1), ('c', 9), ('b', 45), ('a', 100)]\n"
          ]
        }
      ]
    },
    {
      "cell_type": "markdown",
      "source": [
        "**35. Write a code that inverts a dictionary, swapping keys and values. Ensure that the inverted dictionary correctly handles cases where multiple keys have the same value by storing the keys as a list in the Inverted dictionary.**"
      ],
      "metadata": {
        "id": "UNPcU601n1-m"
      }
    },
    {
      "cell_type": "code",
      "source": [
        "def invert_dict(input_dict: dict)->dict:\n",
        "    invert_dict = {}\n",
        "    for key, value in input_dict.items():\n",
        "      if invert_dict.get(value) is None:\n",
        "        invert_dict[value] = key\n",
        "      else:\n",
        "        previous_values = invert_dict.get(value)\n",
        "        invert_dict[value] = list(previous_values)\n",
        "        invert_dict[value].append(key)\n",
        "\n",
        "\n",
        "    return invert_dict\n",
        "\n",
        "inpDict = {\"a\": 3, \"b\":9, \"c\": 7, \"d\": 9}\n",
        "\n",
        "print(invert_dict(inpDict))"
      ],
      "metadata": {
        "colab": {
          "base_uri": "https://localhost:8080/"
        },
        "id": "-tLcrWJOaCSC",
        "outputId": "2d59c354-c518-492b-a1f7-c610dc2489da"
      },
      "execution_count": 45,
      "outputs": [
        {
          "output_type": "stream",
          "name": "stdout",
          "text": [
            "{3: 'a', 9: ['b', 'd'], 7: 'c'}\n"
          ]
        }
      ]
    }
  ]
}